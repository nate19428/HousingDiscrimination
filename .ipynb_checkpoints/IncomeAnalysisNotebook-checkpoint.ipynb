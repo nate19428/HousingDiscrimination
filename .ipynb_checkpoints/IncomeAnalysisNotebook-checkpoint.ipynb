{
 "cells": [
  {
   "cell_type": "markdown",
   "id": "14f60d93",
   "metadata": {},
   "source": [
    "# Initial Analysis \n",
    "\n"
   ]
  },
  {
   "cell_type": "code",
   "execution_count": 1,
   "id": "45583243",
   "metadata": {},
   "outputs": [],
   "source": [
    "#importing useful libraries\n",
    "import pandas as pd\n",
    "import numpy  as np\n",
    "import matplotlib.pyplot as plt"
   ]
  },
  {
   "cell_type": "code",
   "execution_count": 2,
   "id": "736f69af",
   "metadata": {},
   "outputs": [],
   "source": [
    "df = pd.read_csv(\"data/2021_data_truncated.csv\", low_memory=False)"
   ]
  },
  {
   "cell_type": "code",
   "execution_count": 3,
   "id": "d0c6e05b",
   "metadata": {},
   "outputs": [
    {
     "name": "stdout",
     "output_type": "stream",
     "text": [
      "(99999, 99)\n"
     ]
    }
   ],
   "source": [
    "print(df.shape)"
   ]
  },
  {
   "cell_type": "code",
   "execution_count": 4,
   "id": "e6d23844",
   "metadata": {},
   "outputs": [
    {
     "data": {
      "text/html": [
       "<div>\n",
       "<style scoped>\n",
       "    .dataframe tbody tr th:only-of-type {\n",
       "        vertical-align: middle;\n",
       "    }\n",
       "\n",
       "    .dataframe tbody tr th {\n",
       "        vertical-align: top;\n",
       "    }\n",
       "\n",
       "    .dataframe thead th {\n",
       "        text-align: right;\n",
       "    }\n",
       "</style>\n",
       "<table border=\"1\" class=\"dataframe\">\n",
       "  <thead>\n",
       "    <tr style=\"text-align: right;\">\n",
       "      <th></th>\n",
       "      <th>activity_year</th>\n",
       "      <th>lei</th>\n",
       "      <th>derived_msa_md</th>\n",
       "      <th>state_code</th>\n",
       "      <th>county_code</th>\n",
       "      <th>census_tract</th>\n",
       "      <th>conforming_loan_limit</th>\n",
       "      <th>derived_loan_product_type</th>\n",
       "      <th>derived_dwelling_category</th>\n",
       "      <th>derived_ethnicity</th>\n",
       "      <th>...</th>\n",
       "      <th>denial_reason_2</th>\n",
       "      <th>denial_reason_3</th>\n",
       "      <th>denial_reason_4</th>\n",
       "      <th>tract_population</th>\n",
       "      <th>tract_minority_population_percent</th>\n",
       "      <th>ffiec_msa_md_median_family_income</th>\n",
       "      <th>tract_to_msa_income_percentage</th>\n",
       "      <th>tract_owner_occupied_units</th>\n",
       "      <th>tract_one_to_four_family_homes</th>\n",
       "      <th>tract_median_age_of_housing_units</th>\n",
       "    </tr>\n",
       "  </thead>\n",
       "  <tbody>\n",
       "    <tr>\n",
       "      <th>0</th>\n",
       "      <td>2021</td>\n",
       "      <td>5493006LH4LKHY2EIN26</td>\n",
       "      <td>15380</td>\n",
       "      <td>NY</td>\n",
       "      <td>36029.0</td>\n",
       "      <td>3.602901e+10</td>\n",
       "      <td>C</td>\n",
       "      <td>Conventional:First Lien</td>\n",
       "      <td>Single Family (1-4 Units):Site-Built</td>\n",
       "      <td>Not Hispanic or Latino</td>\n",
       "      <td>...</td>\n",
       "      <td>NaN</td>\n",
       "      <td>NaN</td>\n",
       "      <td>NaN</td>\n",
       "      <td>5455</td>\n",
       "      <td>2.51</td>\n",
       "      <td>78900</td>\n",
       "      <td>152.0</td>\n",
       "      <td>1943</td>\n",
       "      <td>2018</td>\n",
       "      <td>31</td>\n",
       "    </tr>\n",
       "    <tr>\n",
       "      <th>1</th>\n",
       "      <td>2021</td>\n",
       "      <td>5493006LH4LKHY2EIN26</td>\n",
       "      <td>40380</td>\n",
       "      <td>NY</td>\n",
       "      <td>36051.0</td>\n",
       "      <td>3.605103e+10</td>\n",
       "      <td>C</td>\n",
       "      <td>Conventional:First Lien</td>\n",
       "      <td>Single Family (1-4 Units):Site-Built</td>\n",
       "      <td>Not Hispanic or Latino</td>\n",
       "      <td>...</td>\n",
       "      <td>NaN</td>\n",
       "      <td>NaN</td>\n",
       "      <td>NaN</td>\n",
       "      <td>3763</td>\n",
       "      <td>2.02</td>\n",
       "      <td>82900</td>\n",
       "      <td>86.0</td>\n",
       "      <td>1225</td>\n",
       "      <td>1704</td>\n",
       "      <td>67</td>\n",
       "    </tr>\n",
       "  </tbody>\n",
       "</table>\n",
       "<p>2 rows × 99 columns</p>\n",
       "</div>"
      ],
      "text/plain": [
       "   activity_year                   lei  derived_msa_md state_code  \\\n",
       "0           2021  5493006LH4LKHY2EIN26           15380         NY   \n",
       "1           2021  5493006LH4LKHY2EIN26           40380         NY   \n",
       "\n",
       "   county_code  census_tract conforming_loan_limit derived_loan_product_type  \\\n",
       "0      36029.0  3.602901e+10                     C   Conventional:First Lien   \n",
       "1      36051.0  3.605103e+10                     C   Conventional:First Lien   \n",
       "\n",
       "              derived_dwelling_category       derived_ethnicity  ...  \\\n",
       "0  Single Family (1-4 Units):Site-Built  Not Hispanic or Latino  ...   \n",
       "1  Single Family (1-4 Units):Site-Built  Not Hispanic or Latino  ...   \n",
       "\n",
       "  denial_reason_2 denial_reason_3  denial_reason_4  tract_population  \\\n",
       "0             NaN             NaN              NaN              5455   \n",
       "1             NaN             NaN              NaN              3763   \n",
       "\n",
       "   tract_minority_population_percent  ffiec_msa_md_median_family_income  \\\n",
       "0                               2.51                              78900   \n",
       "1                               2.02                              82900   \n",
       "\n",
       "   tract_to_msa_income_percentage  tract_owner_occupied_units  \\\n",
       "0                           152.0                        1943   \n",
       "1                            86.0                        1225   \n",
       "\n",
       "   tract_one_to_four_family_homes  tract_median_age_of_housing_units  \n",
       "0                            2018                                 31  \n",
       "1                            1704                                 67  \n",
       "\n",
       "[2 rows x 99 columns]"
      ]
     },
     "execution_count": 4,
     "metadata": {},
     "output_type": "execute_result"
    }
   ],
   "source": [
    "df.head(2)\n"
   ]
  },
  {
   "cell_type": "code",
   "execution_count": 6,
   "id": "ef0d581e",
   "metadata": {},
   "outputs": [],
   "source": [
    "    df = df[[\"derived_race\",\"applicant_race_1\", \"action_taken\"]]"
   ]
  },
  {
   "cell_type": "code",
   "execution_count": 19,
   "id": "fe228039",
   "metadata": {},
   "outputs": [
    {
     "data": {
      "text/html": [
       "<div>\n",
       "<style scoped>\n",
       "    .dataframe tbody tr th:only-of-type {\n",
       "        vertical-align: middle;\n",
       "    }\n",
       "\n",
       "    .dataframe tbody tr th {\n",
       "        vertical-align: top;\n",
       "    }\n",
       "\n",
       "    .dataframe thead th {\n",
       "        text-align: right;\n",
       "    }\n",
       "</style>\n",
       "<table border=\"1\" class=\"dataframe\">\n",
       "  <thead>\n",
       "    <tr style=\"text-align: right;\">\n",
       "      <th></th>\n",
       "      <th>derived_race</th>\n",
       "      <th>applicant_race_1</th>\n",
       "      <th>action_taken</th>\n",
       "    </tr>\n",
       "  </thead>\n",
       "  <tbody>\n",
       "    <tr>\n",
       "      <th>0</th>\n",
       "      <td>White</td>\n",
       "      <td>5.0</td>\n",
       "      <td>2</td>\n",
       "    </tr>\n",
       "    <tr>\n",
       "      <th>1</th>\n",
       "      <td>White</td>\n",
       "      <td>5.0</td>\n",
       "      <td>1</td>\n",
       "    </tr>\n",
       "    <tr>\n",
       "      <th>2</th>\n",
       "      <td>White</td>\n",
       "      <td>5.0</td>\n",
       "      <td>1</td>\n",
       "    </tr>\n",
       "    <tr>\n",
       "      <th>3</th>\n",
       "      <td>White</td>\n",
       "      <td>5.0</td>\n",
       "      <td>4</td>\n",
       "    </tr>\n",
       "    <tr>\n",
       "      <th>4</th>\n",
       "      <td>White</td>\n",
       "      <td>5.0</td>\n",
       "      <td>1</td>\n",
       "    </tr>\n",
       "  </tbody>\n",
       "</table>\n",
       "</div>"
      ],
      "text/plain": [
       "  derived_race  applicant_race_1  action_taken\n",
       "0        White               5.0             2\n",
       "1        White               5.0             1\n",
       "2        White               5.0             1\n",
       "3        White               5.0             4\n",
       "4        White               5.0             1"
      ]
     },
     "execution_count": 19,
     "metadata": {},
     "output_type": "execute_result"
    }
   ],
   "source": [
    "df.head(5)"
   ]
  },
  {
   "cell_type": "code",
   "execution_count": 8,
   "id": "becf2df6",
   "metadata": {},
   "outputs": [],
   "source": [
    "BA = df[df[\"applicant_race_1\"] == 3] #Black Applicants\n",
    "WA = df[df[\"applicant_race_1\"] == 5] #White Applicants"
   ]
  },
  {
   "cell_type": "code",
   "execution_count": 9,
   "id": "e355a93f",
   "metadata": {},
   "outputs": [],
   "source": [
    "BA_denied = BA[BA[\"action_taken\"]==3] # Black Applicants Denied Loans\n",
    "BA_accepted = BA[BA[\"action_taken\"]==1] # Black Applicants Originated Loans\n",
    "\n",
    "WA_denied = WA[WA[\"action_taken\"]==3] # White Applicants Denied Loans\n",
    "WA_accepted = WA[WA[\"action_taken\"]==1] # White Applicants Originated Loans"
   ]
  },
  {
   "cell_type": "code",
   "execution_count": 10,
   "id": "583c8fd4",
   "metadata": {},
   "outputs": [
    {
     "data": {
      "text/plain": [
       "(1447, 3)"
      ]
     },
     "execution_count": 10,
     "metadata": {},
     "output_type": "execute_result"
    }
   ],
   "source": [
    "BA_denied.shape"
   ]
  },
  {
   "cell_type": "code",
   "execution_count": 11,
   "id": "988fa563",
   "metadata": {},
   "outputs": [
    {
     "data": {
      "text/plain": [
       "(2676, 3)"
      ]
     },
     "execution_count": 11,
     "metadata": {},
     "output_type": "execute_result"
    }
   ],
   "source": [
    "BA_accepted.shape"
   ]
  },
  {
   "cell_type": "code",
   "execution_count": 12,
   "id": "9f0212f7",
   "metadata": {},
   "outputs": [
    {
     "data": {
      "text/plain": [
       "(8011, 3)"
      ]
     },
     "execution_count": 12,
     "metadata": {},
     "output_type": "execute_result"
    }
   ],
   "source": [
    "WA_denied.shape"
   ]
  },
  {
   "cell_type": "code",
   "execution_count": 13,
   "id": "f9ff58bb",
   "metadata": {},
   "outputs": [
    {
     "data": {
      "text/plain": [
       "(51992, 3)"
      ]
     },
     "execution_count": 13,
     "metadata": {},
     "output_type": "execute_result"
    }
   ],
   "source": [
    "WA_accepted.shape"
   ]
  },
  {
   "cell_type": "code",
   "execution_count": 14,
   "id": "b55ce16f",
   "metadata": {},
   "outputs": [
    {
     "name": "stdout",
     "output_type": "stream",
     "text": [
      "48.81430134987231\n"
     ]
    }
   ],
   "source": [
    "BA_percentage = len(BA_accepted) / len(BA)\n",
    "print(BA_percentage * 100)"
   ]
  },
  {
   "cell_type": "code",
   "execution_count": 15,
   "id": "dd2654bc",
   "metadata": {},
   "outputs": [
    {
     "name": "stdout",
     "output_type": "stream",
     "text": [
      "69.92965608145369\n"
     ]
    }
   ],
   "source": [
    "WA_percentage = len(WA_accepted) / len(WA)\n",
    "print(WA_percentage * 100)"
   ]
  },
  {
   "cell_type": "markdown",
   "id": "f53dd620",
   "metadata": {},
   "source": [
    "### Initial Analysis\n",
    "##### Based solely on race, it seems at first that Black Applicants have a lower chance of getting their loan accepted. However, we must consider the income of applicants, location of applicants, etc before drawing any conlcusions on the connection between race and loan acceptance rates. \n"
   ]
  },
  {
   "cell_type": "code",
   "execution_count": null,
   "id": "3a378d1f",
   "metadata": {},
   "outputs": [],
   "source": []
  }
 ],
 "metadata": {
  "kernelspec": {
   "display_name": "Python 3 (ipykernel)",
   "language": "python",
   "name": "python3"
  },
  "language_info": {
   "codemirror_mode": {
    "name": "ipython",
    "version": 3
   },
   "file_extension": ".py",
   "mimetype": "text/x-python",
   "name": "python",
   "nbconvert_exporter": "python",
   "pygments_lexer": "ipython3",
   "version": "3.9.12"
  }
 },
 "nbformat": 4,
 "nbformat_minor": 5
}
