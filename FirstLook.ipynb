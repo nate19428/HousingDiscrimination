{
 "cells": [
  {
   "cell_type": "markdown",
   "id": "14f60d93",
   "metadata": {},
   "source": [
    "# Initial Analysis \n",
    "\n"
   ]
  },
  {
   "cell_type": "code",
   "execution_count": 50,
   "id": "45583243",
   "metadata": {},
   "outputs": [],
   "source": [
    "#importing useful libraries\n",
    "import pandas as pd\n",
    "import numpy  as np\n",
    "import matplotlib.pyplot as plt"
   ]
  },
  {
   "cell_type": "code",
   "execution_count": 51,
   "id": "736f69af",
   "metadata": {},
   "outputs": [],
   "source": [
    "df = pd.read_csv(\"data/data2017.csv\", low_memory=False)"
   ]
  },
  {
   "cell_type": "code",
   "execution_count": 52,
   "id": "d0c6e05b",
   "metadata": {},
   "outputs": [
    {
     "name": "stdout",
     "output_type": "stream",
     "text": [
      "(1333404, 78)\n"
     ]
    }
   ],
   "source": [
    "print(df.shape)"
   ]
  },
  {
   "cell_type": "code",
   "execution_count": 53,
   "id": "e6d23844",
   "metadata": {},
   "outputs": [
    {
     "data": {
      "text/html": [
       "<div>\n",
       "<style scoped>\n",
       "    .dataframe tbody tr th:only-of-type {\n",
       "        vertical-align: middle;\n",
       "    }\n",
       "\n",
       "    .dataframe tbody tr th {\n",
       "        vertical-align: top;\n",
       "    }\n",
       "\n",
       "    .dataframe thead th {\n",
       "        text-align: right;\n",
       "    }\n",
       "</style>\n",
       "<table border=\"1\" class=\"dataframe\">\n",
       "  <thead>\n",
       "    <tr style=\"text-align: right;\">\n",
       "      <th></th>\n",
       "      <th>as_of_year</th>\n",
       "      <th>respondent_id</th>\n",
       "      <th>agency_name</th>\n",
       "      <th>agency_abbr</th>\n",
       "      <th>agency_code</th>\n",
       "      <th>loan_type_name</th>\n",
       "      <th>loan_type</th>\n",
       "      <th>property_type_name</th>\n",
       "      <th>property_type</th>\n",
       "      <th>loan_purpose_name</th>\n",
       "      <th>...</th>\n",
       "      <th>edit_status_name</th>\n",
       "      <th>edit_status</th>\n",
       "      <th>sequence_number</th>\n",
       "      <th>population</th>\n",
       "      <th>minority_population</th>\n",
       "      <th>hud_median_family_income</th>\n",
       "      <th>tract_to_msamd_income</th>\n",
       "      <th>number_of_owner_occupied_units</th>\n",
       "      <th>number_of_1_to_4_family_units</th>\n",
       "      <th>application_date_indicator</th>\n",
       "    </tr>\n",
       "  </thead>\n",
       "  <tbody>\n",
       "    <tr>\n",
       "      <th>0</th>\n",
       "      <td>2017</td>\n",
       "      <td>75-2921540</td>\n",
       "      <td>Department of Housing and Urban Development</td>\n",
       "      <td>HUD</td>\n",
       "      <td>7</td>\n",
       "      <td>Conventional</td>\n",
       "      <td>1</td>\n",
       "      <td>One-to-four family dwelling (other than manufa...</td>\n",
       "      <td>1</td>\n",
       "      <td>Refinancing</td>\n",
       "      <td>...</td>\n",
       "      <td>NaN</td>\n",
       "      <td>NaN</td>\n",
       "      <td>NaN</td>\n",
       "      <td>3202.0</td>\n",
       "      <td>97.279999</td>\n",
       "      <td>57400.0</td>\n",
       "      <td>47.540001</td>\n",
       "      <td>710.0</td>\n",
       "      <td>1314.0</td>\n",
       "      <td>NaN</td>\n",
       "    </tr>\n",
       "    <tr>\n",
       "      <th>1</th>\n",
       "      <td>2017</td>\n",
       "      <td>0000504713</td>\n",
       "      <td>Consumer Financial Protection Bureau</td>\n",
       "      <td>CFPB</td>\n",
       "      <td>9</td>\n",
       "      <td>Conventional</td>\n",
       "      <td>1</td>\n",
       "      <td>One-to-four family dwelling (other than manufa...</td>\n",
       "      <td>1</td>\n",
       "      <td>Refinancing</td>\n",
       "      <td>...</td>\n",
       "      <td>NaN</td>\n",
       "      <td>NaN</td>\n",
       "      <td>NaN</td>\n",
       "      <td>3733.0</td>\n",
       "      <td>4.580000</td>\n",
       "      <td>63900.0</td>\n",
       "      <td>86.239998</td>\n",
       "      <td>861.0</td>\n",
       "      <td>1241.0</td>\n",
       "      <td>NaN</td>\n",
       "    </tr>\n",
       "  </tbody>\n",
       "</table>\n",
       "<p>2 rows × 78 columns</p>\n",
       "</div>"
      ],
      "text/plain": [
       "   as_of_year respondent_id                                  agency_name  \\\n",
       "0        2017    75-2921540  Department of Housing and Urban Development   \n",
       "1        2017    0000504713         Consumer Financial Protection Bureau   \n",
       "\n",
       "  agency_abbr  agency_code loan_type_name  loan_type  \\\n",
       "0         HUD            7   Conventional          1   \n",
       "1        CFPB            9   Conventional          1   \n",
       "\n",
       "                                  property_type_name  property_type  \\\n",
       "0  One-to-four family dwelling (other than manufa...              1   \n",
       "1  One-to-four family dwelling (other than manufa...              1   \n",
       "\n",
       "  loan_purpose_name  ...  edit_status_name edit_status  sequence_number  \\\n",
       "0       Refinancing  ...               NaN         NaN              NaN   \n",
       "1       Refinancing  ...               NaN         NaN              NaN   \n",
       "\n",
       "   population minority_population  hud_median_family_income  \\\n",
       "0      3202.0           97.279999                   57400.0   \n",
       "1      3733.0            4.580000                   63900.0   \n",
       "\n",
       "  tract_to_msamd_income  number_of_owner_occupied_units  \\\n",
       "0             47.540001                           710.0   \n",
       "1             86.239998                           861.0   \n",
       "\n",
       "  number_of_1_to_4_family_units  application_date_indicator  \n",
       "0                        1314.0                         NaN  \n",
       "1                        1241.0                         NaN  \n",
       "\n",
       "[2 rows x 78 columns]"
      ]
     },
     "execution_count": 53,
     "metadata": {},
     "output_type": "execute_result"
    }
   ],
   "source": [
    "df.head(2)\n"
   ]
  },
  {
   "cell_type": "code",
   "execution_count": 54,
   "id": "ef0d581e",
   "metadata": {},
   "outputs": [],
   "source": [
    "    df = df[[\"applicant_race_name_1\",\"applicant_race_1\",\"action_taken_name\", \"action_taken\"]]"
   ]
  },
  {
   "cell_type": "code",
   "execution_count": 55,
   "id": "fe228039",
   "metadata": {},
   "outputs": [
    {
     "data": {
      "text/html": [
       "<div>\n",
       "<style scoped>\n",
       "    .dataframe tbody tr th:only-of-type {\n",
       "        vertical-align: middle;\n",
       "    }\n",
       "\n",
       "    .dataframe tbody tr th {\n",
       "        vertical-align: top;\n",
       "    }\n",
       "\n",
       "    .dataframe thead th {\n",
       "        text-align: right;\n",
       "    }\n",
       "</style>\n",
       "<table border=\"1\" class=\"dataframe\">\n",
       "  <thead>\n",
       "    <tr style=\"text-align: right;\">\n",
       "      <th></th>\n",
       "      <th>applicant_race_name_1</th>\n",
       "      <th>applicant_race_1</th>\n",
       "      <th>action_taken_name</th>\n",
       "      <th>action_taken</th>\n",
       "    </tr>\n",
       "  </thead>\n",
       "  <tbody>\n",
       "    <tr>\n",
       "      <th>0</th>\n",
       "      <td>Black or African American</td>\n",
       "      <td>3</td>\n",
       "      <td>Application withdrawn by applicant</td>\n",
       "      <td>4</td>\n",
       "    </tr>\n",
       "    <tr>\n",
       "      <th>1</th>\n",
       "      <td>White</td>\n",
       "      <td>5</td>\n",
       "      <td>Application denied by financial institution</td>\n",
       "      <td>3</td>\n",
       "    </tr>\n",
       "  </tbody>\n",
       "</table>\n",
       "</div>"
      ],
      "text/plain": [
       "       applicant_race_name_1  applicant_race_1  \\\n",
       "0  Black or African American                 3   \n",
       "1                      White                 5   \n",
       "\n",
       "                             action_taken_name  action_taken  \n",
       "0           Application withdrawn by applicant             4  \n",
       "1  Application denied by financial institution             3  "
      ]
     },
     "execution_count": 55,
     "metadata": {},
     "output_type": "execute_result"
    }
   ],
   "source": [
    "df.head(2)"
   ]
  },
  {
   "cell_type": "code",
   "execution_count": 56,
   "id": "becf2df6",
   "metadata": {},
   "outputs": [],
   "source": [
    "BA = df[df[\"applicant_race_1\"] == 3] #Black Applicants\n",
    "WA = df[df[\"applicant_race_1\"] == 5] #White Applicants"
   ]
  },
  {
   "cell_type": "code",
   "execution_count": 64,
   "id": "e355a93f",
   "metadata": {},
   "outputs": [],
   "source": [
    "BA_denied = BA[BA[\"action_taken\"]==3] # Black Applicants Denied Loans\n",
    "BA_accepted = BA[BA[\"action_taken\"]==1] # Black Applicants Originated Loans\n",
    "\n",
    "WA_denied = WA[WA[\"action_taken\"]==3] # White Applicants Denied Loans\n",
    "WA_accepted = WA[WA[\"action_taken\"]==1] # White Applicants Originated Loans"
   ]
  },
  {
   "cell_type": "code",
   "execution_count": 65,
   "id": "583c8fd4",
   "metadata": {},
   "outputs": [
    {
     "data": {
      "text/plain": [
       "(28257, 4)"
      ]
     },
     "execution_count": 65,
     "metadata": {},
     "output_type": "execute_result"
    }
   ],
   "source": [
    "BA_denied.shape"
   ]
  },
  {
   "cell_type": "code",
   "execution_count": 66,
   "id": "988fa563",
   "metadata": {},
   "outputs": [
    {
     "data": {
      "text/plain": [
       "(35051, 4)"
      ]
     },
     "execution_count": 66,
     "metadata": {},
     "output_type": "execute_result"
    }
   ],
   "source": [
    "BA_accepted.shape"
   ]
  },
  {
   "cell_type": "code",
   "execution_count": 67,
   "id": "9f0212f7",
   "metadata": {},
   "outputs": [
    {
     "data": {
      "text/plain": [
       "(159702, 4)"
      ]
     },
     "execution_count": 67,
     "metadata": {},
     "output_type": "execute_result"
    }
   ],
   "source": [
    "WA_denied.shape"
   ]
  },
  {
   "cell_type": "code",
   "execution_count": 68,
   "id": "f9ff58bb",
   "metadata": {},
   "outputs": [
    {
     "data": {
      "text/plain": [
       "(450580, 4)"
      ]
     },
     "execution_count": 68,
     "metadata": {},
     "output_type": "execute_result"
    }
   ],
   "source": [
    "WA_accepted.shape"
   ]
  },
  {
   "cell_type": "code",
   "execution_count": 72,
   "id": "b55ce16f",
   "metadata": {},
   "outputs": [
    {
     "name": "stdout",
     "output_type": "stream",
     "text": [
      "38.047218453188606\n"
     ]
    }
   ],
   "source": [
    "BA_percentage = len(BA_accepted) / len(BA)\n",
    "print(BA_percentage * 100)"
   ]
  },
  {
   "cell_type": "code",
   "execution_count": 73,
   "id": "dd2654bc",
   "metadata": {},
   "outputs": [
    {
     "name": "stdout",
     "output_type": "stream",
     "text": [
      "55.23858094539891\n"
     ]
    }
   ],
   "source": [
    "WA_percentage = len(WA_accepted) / len(WA)\n",
    "print(WA_percentage * 100)"
   ]
  },
  {
   "cell_type": "code",
   "execution_count": null,
   "id": "6337cb96",
   "metadata": {},
   "outputs": [],
   "source": []
  }
 ],
 "metadata": {
  "kernelspec": {
   "display_name": "Python 3 (ipykernel)",
   "language": "python",
   "name": "python3"
  },
  "language_info": {
   "codemirror_mode": {
    "name": "ipython",
    "version": 3
   },
   "file_extension": ".py",
   "mimetype": "text/x-python",
   "name": "python",
   "nbconvert_exporter": "python",
   "pygments_lexer": "ipython3",
   "version": "3.9.5"
  }
 },
 "nbformat": 4,
 "nbformat_minor": 5
}
